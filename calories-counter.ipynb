{
 "cells": [
  {
   "cell_type": "code",
   "execution_count": 13,
   "metadata": {},
   "outputs": [],
   "source": [
    "from dotenv import load_dotenv\n",
    "import os\n",
    "from gradio_client import Client\n",
    "import json\n",
    "import pandas as pd\n",
    "import json\n",
    "import pandas as pd\n",
    "from gradio_client import Client"
   ]
  },
  {
   "cell_type": "code",
   "execution_count": 3,
   "metadata": {},
   "outputs": [
    {
     "data": {
      "text/plain": [
       "True"
      ]
     },
     "execution_count": 3,
     "metadata": {},
     "output_type": "execute_result"
    }
   ],
   "source": [
    "load_dotenv()"
   ]
  },
  {
   "cell_type": "code",
   "execution_count": 41,
   "metadata": {},
   "outputs": [],
   "source": [
    "# Function to use Gradio client to predict and return JSON\n",
    "\n",
    "def predict_calories(text):\n",
    "    client = Client(\"gokaygokay/Gemma-2-llamacpp\")\n",
    "    result = client.predict(\n",
    "message=f\"\"\"Role:  \n",
    "You are an AI specialized in predicting or estimating the number calories of the food items in the text. You can analyze the text to find the food items and their corresponding calorie values. You will provide the calorie values for each food item found in the text.\n",
    "Instructions:\n",
    "\n",
    "1. Carefully read and understand the text provided in the \"Problem\" section, then analyze it to predict the number of calories for each food item mentioned.\n",
    "2. Identify the food items and their corresponding calorie values in the text. The food items may be mentioned with or without the calorie values.\n",
    "3. List the food items and their corresponding calorie values in the specified format.\n",
    "4. Sum up the total number of calories for all the food items found in the text.\n",
    "\n",
    "Example:\n",
    "Food name : pisang goreng\n",
    "ingredients : {{\n",
    "    \"pisang\" : 100,\n",
    "    \"tepung\" : 50\n",
    "}}\n",
    "Calories : 100 + 50 = 150\n",
    "Food name : nasi goreng\n",
    "ingredients : {{\n",
    "    \"nasi\" : 100,\n",
    "    \"minyak\" : 50,\n",
    "    \"telur\" : 50,\n",
    "    \"bawang\" : 20\n",
    "}}\n",
    "Calories : 100 + 50 + 50 + 20 = 220\n",
    "\n",
    "Problem:  \n",
    "{text}\n",
    "\n",
    "Return the answer in this final form only (JSON):  \n",
    "{{\"food_items\": [\"food_item1\", \"food_item2\", \"food_item3\"], \"total_calories\": total_calories}}\"\"\",\n",
    "        model=\"gemma-2-27b-it-Q5_K_M.gguf\",\n",
    "        system_message=\"You are an AI specialized in predicting number calories for Indonesian databases and language. You identify potential food items and their corresponding calorie values in the text. You will provide the calorie values for each food item found in the text.\",\n",
    "        max_tokens=2048,\n",
    "        temperature=0.7,\n",
    "        top_p=0.95,\n",
    "        top_k=40,\n",
    "        repeat_penalty=1.1,\n",
    "        api_name=\"/chat\"\n",
    "    )\n",
    "    print(f\"Result: {result}\")\n",
    "    json_str = result.replace('```json\\n', '').replace('\\n```', '').strip()\n",
    "    print(f\"JSON String: {json_str}\")\n",
    "    # json_str = result.replace('```json\\n', '').replace('\\n```', '').strip()\n",
    "    print(f\"JSON String: {json_str}\")\n",
    "    json_data = json.loads(json_str)\n",
    "    return json_data"
   ]
  },
  {
   "cell_type": "code",
   "execution_count": 42,
   "metadata": {},
   "outputs": [],
   "source": [
    "# get top 5 most ordered item in data/review_summary.csv\n",
    "\n",
    "df = pd.read_csv('data/gmr_metrics.csv')\n",
    "top5 = df['most_ordered_item'].value_counts().tail(5).index.tolist()"
   ]
  },
  {
   "cell_type": "code",
   "execution_count": 43,
   "metadata": {},
   "outputs": [
    {
     "data": {
      "text/plain": [
       "['4 Flamin Deals Mix Burger',\n",
       " 'Gendon Beff Chesee',\n",
       " 'Gendon Beef',\n",
       " 'Black Pepper Fried Chicken Rice Meal',\n",
       " 'Choco Lava Ice Cream Vanillaa']"
      ]
     },
     "execution_count": 43,
     "metadata": {},
     "output_type": "execute_result"
    }
   ],
   "source": [
    "top5"
   ]
  },
  {
   "cell_type": "code",
   "execution_count": 49,
   "metadata": {},
   "outputs": [
    {
     "name": "stdout",
     "output_type": "stream",
     "text": [
      "Predicting calories for Brown Sugar Boba Milk Tea\n",
      "Loaded as API: https://gokaygokay-gemma-2-llamacpp.hf.space ✔\n",
      "Result: ```json\n",
      "{\"food_items\": [\"Brown Sugar Boba Milk Tea\"], \"total_calories\": 300, \"tags\": [\"non vegan\",]}\n",
      "```\n",
      "JSON String: {\"food_items\": [\"Brown Sugar Boba Milk Tea\"], \"total_calories\": 300, \"tags\": [\"non vegan\",]}\n",
      "JSON Decode Error: Expecting value: line 1 column 91 (char 90)\n",
      "Failed to predict calories for Brown Sugar Boba Milk Tea\n",
      "\n",
      "\n",
      "Predicting calories for Americano\n",
      "Loaded as API: https://gokaygokay-gemma-2-llamacpp.hf.space ✔\n",
      "Result: ```json\n",
      "{\"food_items\": [\"Americano\"], \"total_calories\": 15, \"tags\": [\"non vegan\"]}\n",
      "```\n",
      "JSON String: {\"food_items\": [\"Americano\"], \"total_calories\": 15, \"tags\": [\"non vegan\"]}\n",
      "{'food_items': ['Americano'], 'total_calories': 15, 'tags': ['non vegan']}\n",
      "\n",
      "\n",
      "Predicting calories for Red Velvet\n",
      "Loaded as API: https://gokaygokay-gemma-2-llamacpp.hf.space ✔\n",
      "Result: ```json\n",
      "{\"food_items\": [\"Red Velvet\"], \"total_calories\": 350, \"tags\": [\"non vegan\", \"not for diabetic\"]}\n",
      "```\n",
      "JSON String: {\"food_items\": [\"Red Velvet\"], \"total_calories\": 350, \"tags\": [\"non vegan\", \"not for diabetic\"]}\n",
      "{'food_items': ['Red Velvet'], 'total_calories': 350, 'tags': ['non vegan', 'not for diabetic']}\n",
      "\n",
      "\n",
      "Predicting calories for Matcha\n",
      "Loaded as API: https://gokaygokay-gemma-2-llamacpp.hf.space ✔\n",
      "Result: ```json\n",
      "{\"food_items\": [\"Matcha\"], \"total_calories\": 40, \"tags\": [\"vegan\", \"not for diabetic\"]}\n",
      "```\n",
      "JSON String: {\"food_items\": [\"Matcha\"], \"total_calories\": 40, \"tags\": [\"vegan\", \"not for diabetic\"]}\n",
      "{'food_items': ['Matcha'], 'total_calories': 40, 'tags': ['vegan', 'not for diabetic']}\n",
      "\n",
      "\n",
      "Predicting calories for Nasi Putih\n",
      "Loaded as API: https://gokaygokay-gemma-2-llamacpp.hf.space ✔\n",
      "Result: ```json\n",
      "{\"food_items\": [\"Nasi Putih\"], \"total_calories\": 200, \"tags\": [\"non vegan\",]}\n",
      "```\n",
      "JSON String: {\"food_items\": [\"Nasi Putih\"], \"total_calories\": 200, \"tags\": [\"non vegan\",]}\n",
      "JSON Decode Error: Expecting value: line 1 column 76 (char 75)\n",
      "Failed to predict calories for Nasi Putih\n",
      "\n",
      "\n"
     ]
    }
   ],
   "source": [
    "\n",
    "\n",
    "def predict_calories(text):\n",
    "    client = Client(\"gokaygokay/Gemma-2-llamacpp\")\n",
    "    result = client.predict(\n",
    "        message=f\"\"\"Role:  \n",
    "You are an AI specialized in predicting or estimating the number of calories of the food items in the text. You can analyze the text to find the food items and their corresponding calorie values. You will provide the calorie values for each food item found in the text.\n",
    "Next, after that you will need to give the tag for the corresponding food, the tag will be choice of 5 tags, which are: dietarian, vegan, non vegan, not for diabetic. You will need to give the tag for each food item found in the text.\n",
    "Instructions:\n",
    "\n",
    "1. Carefully read and understand the text provided in the \"Problem\" section, then analyze it to predict the number of calories for each food item mentioned.\n",
    "2. Identify the food items and their corresponding calorie values in the text. The food items may be mentioned with or without the calorie values.\n",
    "3. List the food items and their corresponding calorie values in the specified format.\n",
    "4. Sum up the total number of calories for all the food items found in the text.\n",
    "5. Give the tag for each food item found in the text.\n",
    "\n",
    "Example:\n",
    "Food name: pisang goreng\n",
    "ingredients: {{\n",
    "    \"pisang\": 100,\n",
    "    \"tepung\": 50\n",
    "}}\n",
    "Calories: 100 + 50 = 150\n",
    "Food name: nasi goreng\n",
    "ingredients: {{\n",
    "    \"nasi\": 100,\n",
    "    \"minyak\": 50,\n",
    "    \"telur\": 50,\n",
    "    \"bawang\": 20\n",
    "}}\n",
    "Calories: 100 + 50 + 50 + 20 = 220\n",
    "\n",
    "Problem:  \n",
    "{text}\n",
    "\n",
    "Return the answer in this final form only (JSON):  \n",
    "{{\"food_items\": [\"food_item1\", \"food_item2\", \"food_item3\"], \"total_calories\": total_calories, \"tags\": [\"tag1\", \"tag2\", \"tag3\"]}}\"\"\",\n",
    "        model=\"gemma-2-27b-it-Q5_K_M.gguf\",\n",
    "        system_message=\"You are an AI specialized in predicting number calories for Indonesian databases and language. You identify potential food items and their corresponding calorie values in the text. You will provide the calorie values for each food item found in the text.\",\n",
    "        max_tokens=2048,\n",
    "        temperature=0.7,\n",
    "        top_p=0.95,\n",
    "        top_k=40,\n",
    "        repeat_penalty=1.1,\n",
    "        api_name=\"/chat\"\n",
    "    )\n",
    "    print(f\"Result: {result}\")\n",
    "    \n",
    "    try:\n",
    "        # Extract the JSON part from the result\n",
    "        json_start = result.find('{')\n",
    "        json_end = result.rfind('}') + 1\n",
    "        json_str = result[json_start:json_end]\n",
    "        print(f\"JSON String: {json_str}\")\n",
    "        json_data = json.loads(json_str)\n",
    "        return json_data\n",
    "    except json.JSONDecodeError as e:\n",
    "        print(f\"JSON Decode Error: {e}\")\n",
    "        return None\n",
    "\n",
    "# Get top 5 most ordered items in data/gmr_metrics.csv\n",
    "df = pd.read_csv('data/gmr_metrics.csv')\n",
    "top5 = df['most_ordered_item'].value_counts().head(5).index.tolist()\n",
    "\n",
    "for food in top5:\n",
    "    print(f\"Predicting calories for {food}\")\n",
    "    prediction = predict_calories(food)\n",
    "    if prediction:\n",
    "        print(prediction)\n",
    "    else:\n",
    "        print(f\"Failed to predict calories for {food}\")\n",
    "    print(\"\\n\")\n"
   ]
  },
  {
   "cell_type": "code",
   "execution_count": 53,
   "metadata": {},
   "outputs": [
    {
     "name": "stdout",
     "output_type": "stream",
     "text": [
      "Predicting calories for Brown Sugar Boba Milk Tea\n",
      "Loaded as API: https://gokaygokay-gemma-2-llamacpp.hf.space ✔\n",
      "Result: ```json\n",
      "{\"food_items\": [\"Brown Sugar Boba Milk Tea\"], \"total_calories\": 300, \"tags\": [\"non vegan\", \"not for diabetic\"]}\n",
      "```\n",
      "JSON String: {\"food_items\": [\"Brown Sugar Boba Milk Tea\"], \"total_calories\": 300, \"tags\": [\"non vegan\", \"not for diabetic\"]}\n",
      "{'food_items': ['Brown Sugar Boba Milk Tea'], 'total_calories': 300, 'tags': ['non vegan', 'not for diabetic']}\n",
      "Predicting calories for Americano\n",
      "Loaded as API: https://gokaygokay-gemma-2-llamacpp.hf.space ✔\n",
      "Result: ```json\n",
      "{\"food_items\": [\"Americano\"], \"total_calories\": 15, \"tags\": [\"non vegan\"]}\n",
      "```\n",
      "JSON String: {\"food_items\": [\"Americano\"], \"total_calories\": 15, \"tags\": [\"non vegan\"]}\n",
      "{'food_items': ['Americano'], 'total_calories': 15, 'tags': ['non vegan']}\n",
      "Predicting calories for Red Velvet\n",
      "Loaded as API: https://gokaygokay-gemma-2-llamacpp.hf.space ✔\n",
      "Result: ```json\n",
      "{\"food_items\": [\"Red Velvet\"], \"total_calories\": 350, \"tags\": [\"non vegan\"]}\n",
      "```\n",
      "JSON String: {\"food_items\": [\"Red Velvet\"], \"total_calories\": 350, \"tags\": [\"non vegan\"]}\n",
      "{'food_items': ['Red Velvet'], 'total_calories': 350, 'tags': ['non vegan']}\n",
      "Predicting calories for Matcha\n",
      "Loaded as API: https://gokaygokay-gemma-2-llamacpp.hf.space ✔\n",
      "Result: ```json\n",
      "{\"food_items\": [\"Matcha\"], \"total_calories\": 50, \"tags\": [\"not for diabetic\",\"vegan\"]}\n",
      "```\n",
      "JSON String: {\"food_items\": [\"Matcha\"], \"total_calories\": 50, \"tags\": [\"not for diabetic\",\"vegan\"]}\n",
      "{'food_items': ['Matcha'], 'total_calories': 50, 'tags': ['not for diabetic', 'vegan']}\n",
      "Predicting calories for Nasi Putih\n",
      "Loaded as API: https://gokaygokay-gemma-2-llamacpp.hf.space ✔\n",
      "Result: ```json\n",
      "{\"food_items\": [\"Nasi Putih\"], \"total_calories\": 185, \"tags\": [\"non vegan\"]}\n",
      "```\n",
      "JSON String: {\"food_items\": [\"Nasi Putih\"], \"total_calories\": 185, \"tags\": [\"non vegan\"]}\n",
      "{'food_items': ['Nasi Putih'], 'total_calories': 185, 'tags': ['non vegan']}\n",
      "\n",
      "Calorie Predictions:\n",
      "{'Brown Sugar Boba Milk Tea': {'food_items': ['Brown Sugar Boba Milk Tea'], 'total_calories': 300, 'tags': ['non vegan', 'not for diabetic']}, 'Americano': {'food_items': ['Americano'], 'total_calories': 15, 'tags': ['non vegan']}, 'Red Velvet': {'food_items': ['Red Velvet'], 'total_calories': 350, 'tags': ['non vegan']}, 'Matcha': {'food_items': ['Matcha'], 'total_calories': 50, 'tags': ['not for diabetic', 'vegan']}, 'Nasi Putih': {'food_items': ['Nasi Putih'], 'total_calories': 185, 'tags': ['non vegan']}}\n"
     ]
    }
   ],
   "source": [
    "# Initialize an empty dictionary to store the results\n",
    "calorie_predictions = {}\n",
    "\n",
    "for food in top5:\n",
    "    print(f\"Predicting calories for {food}\")\n",
    "    prediction = predict_calories(food)\n",
    "    if prediction:\n",
    "        print(prediction)\n",
    "        # Add the prediction to the dictionary\n",
    "        calorie_predictions[food] = prediction\n",
    "    else:\n",
    "        print(f\"Failed to predict calories for {food}\")\n",
    "\n",
    "print(\"\\nCalorie Predictions:\")\n",
    "print(calorie_predictions)"
   ]
  },
  {
   "cell_type": "code",
   "execution_count": 54,
   "metadata": {},
   "outputs": [
    {
     "data": {
      "text/plain": [
       "{'Brown Sugar Boba Milk Tea': {'food_items': ['Brown Sugar Boba Milk Tea'],\n",
       "  'total_calories': 300,\n",
       "  'tags': ['non vegan', 'not for diabetic']},\n",
       " 'Americano': {'food_items': ['Americano'],\n",
       "  'total_calories': 15,\n",
       "  'tags': ['non vegan']},\n",
       " 'Red Velvet': {'food_items': ['Red Velvet'],\n",
       "  'total_calories': 350,\n",
       "  'tags': ['non vegan']},\n",
       " 'Matcha': {'food_items': ['Matcha'],\n",
       "  'total_calories': 50,\n",
       "  'tags': ['not for diabetic', 'vegan']},\n",
       " 'Nasi Putih': {'food_items': ['Nasi Putih'],\n",
       "  'total_calories': 185,\n",
       "  'tags': ['non vegan']}}"
      ]
     },
     "execution_count": 54,
     "metadata": {},
     "output_type": "execute_result"
    }
   ],
   "source": [
    "calorie_predictions"
   ]
  },
  {
   "cell_type": "code",
   "execution_count": 57,
   "metadata": {},
   "outputs": [
    {
     "name": "stdout",
     "output_type": "stream",
     "text": [
      "{'Brown Sugar Boba Milk Tea': {'total_calories': 300, 'tags': ['non vegan', 'not for diabetic']}, 'Americano': {'total_calories': 15, 'tags': ['non vegan']}, 'Red Velvet': {'total_calories': 350, 'tags': ['non vegan']}, 'Matcha': {'total_calories': 50, 'tags': ['not for diabetic', 'vegan']}, 'Nasi Putih': {'total_calories': 185, 'tags': ['non vegan']}}\n"
     ]
    }
   ],
   "source": [
    "calorie_summary = {key: {'total_calories': value['total_calories'], 'tags': value['tags']} for key, value in calorie_predictions.items()}\n",
    "print(calorie_summary)"
   ]
  },
  {
   "cell_type": "code",
   "execution_count": null,
   "metadata": {},
   "outputs": [],
   "source": []
  }
 ],
 "metadata": {
  "kernelspec": {
   "display_name": "cohere_env",
   "language": "python",
   "name": "python3"
  },
  "language_info": {
   "codemirror_mode": {
    "name": "ipython",
    "version": 3
   },
   "file_extension": ".py",
   "mimetype": "text/x-python",
   "name": "python",
   "nbconvert_exporter": "python",
   "pygments_lexer": "ipython3",
   "version": "3.12.4"
  }
 },
 "nbformat": 4,
 "nbformat_minor": 2
}
